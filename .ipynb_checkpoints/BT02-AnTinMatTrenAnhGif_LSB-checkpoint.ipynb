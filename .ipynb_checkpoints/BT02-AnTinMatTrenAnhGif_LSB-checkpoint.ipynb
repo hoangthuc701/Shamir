{
 "cells": [
  {
   "cell_type": "markdown",
   "metadata": {},
   "source": [
    "# BT02: Ẩn tin mật trên ảnh gif (ảnh palette-based) bằng phương pháp LSB\n",
    "\n",
    "Cập nhật ngày 09/12/2020 (ở TEST thứ 3 của hàm nhúng)\n",
    "\n",
    "Họ tên: Nguyễn Hoàng Thức\n",
    "\n",
    "MSSV: 20424077"
   ]
  },
  {
   "cell_type": "markdown",
   "metadata": {},
   "source": [
    "---\n",
    "## Cách làm bài và nộp bài\n",
    "&#9889; Bạn lưu ý là mình sẽ dùng chương trình hỗ trợ chấm bài nên bạn cần phải tuân thủ chính xác qui định mà mình đặt ra, nếu không rõ thì hỏi, chứ không nên tự tiện làm theo ý của cá nhân.\n",
    "\n",
    "**Cách làm bài**\n",
    "\n",
    "Bạn sẽ làm trực tiếp trên file notebook này. Đầu tiên, bạn điền họ tên và MSSV vào phần đầu file ở bên trên. Trong file, bạn làm bài ở những chỗ có ghi là:\n",
    "```python\n",
    "# YOUR CODE HERE\n",
    "raise NotImplementedError()\n",
    "```\n",
    "hoặc đối với những phần code không bắt buộc thì là:\n",
    "```python\n",
    "# YOUR CODE HERE (OPTION)\n",
    "```\n",
    "hoặc đối với markdown cell thì là:\n",
    "```markdown\n",
    "YOUR ANSWER HERE\n",
    "```\n",
    "Tất nhiên, khi làm thì bạn xóa dòng `raise NotImplementedError()` đi.\n",
    "Đối những phần yêu cầu code thì thường ở ngay phía dưới sẽ có một (hoặc một số) cell chứa các bộ test để giúp bạn biết đã code đúng hay chưa; nếu chạy cell này không có lỗi gì thì có nghĩa là qua được các bộ test. Trong một số trường hợp, các bộ test có thể sẽ không đầy đủ; nghĩa là, nếu không qua được test thì là code sai, nhưng nếu qua được test thì chưa chắc đã đúng hoàn toàn.\n",
    "\n",
    "Trong khi làm bài, bạn có thể cho in ra màn hình, tạo thêm các cell để test. Nhưng khi nộp bài thì bạn xóa các cell mà bạn tự tạo, xóa hoặc comment các câu lệnh in ra màn hình. Bạn lưu ý <font color=red>không được tự tiện xóa các cell hay sửa code của Thầy</font> (trừ những chỗ được phép sửa như đã nói ở trên).\n",
    "\n",
    "Trong khi làm bài, thường xuyên `Ctrl + S` để lưu lại bài làm của bạn, tránh mất mát thông tin.\n",
    "\n",
    "\n",
    "*Nên nhớ mục tiêu chính ở đây là <font color=green>học, học một cách chân thật</font>. Bạn có thể thảo luận ý tưởng với bạn khác, nhưng <font color=green>code và bài làm phải là của bạn, dựa trên sự hiểu thật sự của bạn</font>. <font color=red>Nếu vi phạm thì sẽ bị 0 điểm cho toàn bộ môn học.</font>*\n",
    "\n",
    "**Cách nộp bài**\n",
    "\n",
    "Khi chấm bài, đầu tiên mình sẽ chọn `Kernel` - `Restart Kernel & Run All Cells`, để restart và chạy tất cả các cell trong notebook của bạn; do đó, trước khi nộp bài, bạn nên chạy thử `Kernel` - `Restart Kernel & Run All Cells` để đảm bảo mọi chuyện diễn ra đúng như mong đợi.\n",
    "\n",
    "Sau đó, bạn tạo thư mục nộp bài theo cấu trúc sau:\n",
    "- Thư mục `MSSV` (vd, nếu bạn có MSSV là 1234567 thì bạn đặt tên thư mục là `1234567`)\n",
    "    - Thư mục `BT02`\n",
    "        - File `BT02-AnTinMatTrenAnhGif_LSB.ipynb` (không cần nộp các file khác)\n",
    "\n",
    "Cuối cùng, bạn nén thư mục `MSSV` này lại và nộp ở link trên moodle. <font color=red>Bạn lưu ý tuân thủ chính xác cấu trúc này.</font>"
   ]
  },
  {
   "cell_type": "markdown",
   "metadata": {},
   "source": [
    "---\n",
    "## Import"
   ]
  },
  {
   "cell_type": "code",
   "execution_count": 1,
   "metadata": {},
   "outputs": [],
   "source": [
    "from bitarray import bitarray\n",
    "import numpy as np\n",
    "from PIL import Image\n",
    "import matplotlib.pyplot as plt\n",
    "\n",
    "# YOUR CODE HERE (OPTION)"
   ]
  },
  {
   "cell_type": "markdown",
   "metadata": {},
   "source": [
    "---\n",
    "## Định nghĩa các hàm hỗ trợ (nếu cần)"
   ]
  },
  {
   "cell_type": "code",
   "execution_count": 2,
   "metadata": {},
   "outputs": [],
   "source": [
    "# YOUR CODE HERE (OPTION)\n",
    "\n",
    "# ham get value tu index\n",
    "def getValue(index, palette):\n",
    "    return (abs(int(palette[0][index][0])) + abs(int(palette[0][index][1])) + abs(int(palette[0][index][2])))\n",
    "\n",
    "# ham tim ma mau gan nhat\n",
    "def findNearestColor(index,palette, bit, result):\n",
    "    bit_index = 0\n",
    "    if bit == '1':\n",
    "        bit_index = 1\n",
    "\n",
    "    bit_sum1 = (abs(int(palette[0][index][0])) + abs(int(palette[0][index][1])) + abs(int(palette[0][index][2]))) % 2; \n",
    "    if str(bit_sum1) == bit:\n",
    "        return index;\n",
    "    \n",
    "    create_new =  True\n",
    "    if index in result.keys():\n",
    "        if result[index][bit_index] != -1:\n",
    "            return result[index][bit_index]\n",
    "        create_new = False;\n",
    "    \n",
    "    min_distance = 900000;\n",
    "    ans = -1; \n",
    "    \n",
    "    for i in range(len(palette[0])):\n",
    "        red_distance = int(palette[0][i][0]) - int(palette[0][index][0]);\n",
    "        green_distance = int(palette[0][i][1]) - int(palette[0][index][1]);\n",
    "        blue_distance = int(palette[0][i][2]) - int(palette[0][index][2]);\n",
    "        distance = red_distance *  red_distance + green_distance*green_distance + blue_distance*blue_distance;\n",
    "        bit_sum2 = (abs(int(palette[0][i][0])) + abs(int(palette[0][i][1])) + abs(int(palette[0][i][2]))) % 2; \n",
    "        if str(bit_sum2) == bit:\n",
    "            if distance < min_distance:\n",
    "                min_distance = distance\n",
    "                ans = i\n",
    "    if create_new:\n",
    "        result[index]=[-1,-1]\n",
    "        result[index][bit_index] = ans;\n",
    "    else:\n",
    "        result[index][bit_index] = ans\n",
    "    return ans\n",
    "            "
   ]
  },
  {
   "cell_type": "markdown",
   "metadata": {},
   "source": [
    "---\n",
    "## Hàm nhúng (7đ, trong đó: phần code 5đ, phần nhận xét và giải thích kết quả 2đ)"
   ]
  },
  {
   "cell_type": "markdown",
   "metadata": {},
   "source": [
    "&#9889; Lưu ý:\n",
    "- Khi tính toán bạn cần để ý kiểu dữ liệu. Ví dụ, nếu lấy 2 giá trị có kiểu dữ liệu `uint8` trừ cho nhau thì kết quả cũng sẽ có kiểu `uint8` và sẽ bị sai.\n",
    "- Qui ước (để mình và bạn ra cùng kết quả): nếu trong bảng màu có nhiều màu thỏa điều kiện tìm kiếm thì lấy màu có chỉ số nhỏ nhất trong bảng màu. Nếu bạn có dùng hàm `sort` hay `argsort` của numpy thì bạn cần truyền tham số `kind=\"stable\"`; nếu không thì các phần tử có giá trị giống nhau có thể sẽ bị thay đổi thứ tự tương đối với nhau trong quá trình sort."
   ]
  },
  {
   "cell_type": "code",
   "execution_count": 3,
   "metadata": {
    "deletable": false,
    "nbgrader": {
     "cell_type": "code",
     "checksum": "c83895e911261d69f1784cb931b5634f",
     "grade": false,
     "grade_id": "cell-6b22986247c16055",
     "locked": false,
     "schema_version": 3,
     "solution": true,
     "task": false
    }
   },
   "outputs": [],
   "source": [
    "def embed(msg_file, cover_img_file, stego_img_file):\n",
    "    '''\n",
    "    Nhúng tin mật vào ảnh gif (ảnh palette-base) bằng phương pháp của Fridrich \n",
    "    (xem file slide \"06-AnTinMatTrenAnh2.pdf\", trang 24).\n",
    "    \n",
    "    Các tham số:\n",
    "        msg_file (str): Tên file chứa secret message.\n",
    "        cover_img_file (str): Tên file chứa cover image.\n",
    "        stego_img_file (str): Tên file chứa stego image (kết quả sau khi nhúng).\n",
    "    Giá trị trả về:\n",
    "        bool: True nếu nhúng thành không, False nếu không đủ chỗ để nhúng. \n",
    "    '''\n",
    "    num_lsbs = 1 \n",
    "    result = dict()\n",
    "    \n",
    "    # Đọc cover img file\n",
    "    cover_img = Image.open(cover_img_file)\n",
    "    cover_pixels = np.array(cover_img)\n",
    "    palette = cover_img.getpalette() # Kết quả là list các giá trị Red, Green, Blue của các màu \n",
    "                                     # trong bảng màu, 3 giá trị liên tiếp ứng với một màu\n",
    "    palette = np.array(palette, dtype=np.uint8).reshape(1, -1, 3) # Reshape lại dưới dạng ảnh RGB\n",
    "    # plt.figure(); plt.yticks([]); plt.imshow(palette, aspect=20) # Uncomment để xem bảng màu\n",
    "    \n",
    "    # Đọc msg file\n",
    "    with open(msg_file, 'r') as f:         \n",
    "        msg = f.read()\n",
    "    \n",
    "    # Chuyển msg thành msg bits\n",
    "    msg_bits = bitarray()\n",
    "    msg_bits.fromstring(msg)\n",
    "\n",
    "    \n",
    "     # Kiểm xem có nhúng được không?\n",
    "    capacity = cover_pixels.size * num_lsbs\n",
    "    if len(msg_bits) + 1 > capacity:\n",
    "        print('Cannot embed')\n",
    "        return False\n",
    "    \n",
    "       \n",
    "    # Thêm '100...' vào msg bitsresult\n",
    "    msg_bits.extend('1' + '0' * (capacity - len(msg_bits) - 1))\n",
    "    \n",
    "        # Nhúng msg bits vào cover pixels\n",
    "    stego_pixels = np.empty_like(cover_pixels)\n",
    "    for r in range(cover_pixels.shape[0]):\n",
    "        for c in range(cover_pixels.shape[1]):\n",
    "            b = (r * cover_pixels.shape[1] + c) * num_lsbs\n",
    "            bit = msg_bits[b:b+num_lsbs].to01()\n",
    "            stego_pixels[r, c] = (findNearestColor(cover_pixels[r, c],palette, bit, result))\n",
    "    # Ghi stego pixels cùng palette xuống file\n",
    "    stego_img = Image.fromarray(stego_pixels)\n",
    "    stego_img.putpalette(cover_img.getpalette())\n",
    "    stego_img.save(stego_img_file)\n",
    "    \n",
    "    return True"
   ]
  },
  {
   "cell_type": "code",
   "execution_count": 6,
   "metadata": {
    "deletable": false,
    "editable": false,
    "nbgrader": {
     "cell_type": "code",
     "checksum": "872fcbb20ecd7940e3a9a8a7580610fb",
     "grade": true,
     "grade_id": "cell-05bfc2d02048d178",
     "locked": true,
     "points": 0.5,
     "schema_version": 3,
     "solution": false,
     "task": false
    }
   },
   "outputs": [
    {
     "name": "stdout",
     "output_type": "stream",
     "text": [
      "Cannot embed\n"
     ]
    }
   ],
   "source": [
    "# TEST \n",
    "result = embed('msg2.txt', 'lena.gif', 'lena_stego.gif')\n",
    "assert result == False"
   ]
  },
  {
   "cell_type": "code",
   "execution_count": 7,
   "metadata": {
    "deletable": false,
    "editable": false,
    "nbgrader": {
     "cell_type": "code",
     "checksum": "685ce815f77212228f4daa3ce0eb50af",
     "grade": true,
     "grade_id": "cell-03e5ced35879692f",
     "locked": true,
     "points": 2.25,
     "schema_version": 3,
     "solution": false,
     "task": false
    }
   },
   "outputs": [],
   "source": [
    "# TEST             \n",
    "result = embed('msg.txt', 'lena.gif', 'lena_stego.gif')\n",
    "assert result == True\n",
    "stego_img = Image.open('lena_stego.gif')\n",
    "stego_pixels = np.array(stego_img)\n",
    "stego_palette = stego_img.getpalette()\n",
    "correct_stego_img = Image.open('correct_lena_stego.gif')\n",
    "correct_stego_pixels = np.array(correct_stego_img)\n",
    "correct_stego_palette = correct_stego_img.getpalette()\n",
    "assert np.all(stego_pixels == correct_stego_pixels)\n",
    "assert stego_palette == correct_stego_palette"
   ]
  },
  {
   "cell_type": "code",
   "execution_count": 8,
   "metadata": {
    "deletable": false,
    "editable": false,
    "nbgrader": {
     "cell_type": "code",
     "checksum": "ae9c2019a7c7171aecb75fe6ac42fec1",
     "grade": true,
     "grade_id": "cell-955c9ea844d659e9",
     "locked": true,
     "points": 2.25,
     "schema_version": 3,
     "solution": false,
     "task": false
    }
   },
   "outputs": [],
   "source": [
    "# TEST             \n",
    "result = embed('msg.txt', 'baboon.gif', 'baboon_stego.gif')\n",
    "assert result == True\n",
    "stego_img = Image.open('baboon_stego.gif')\n",
    "stego_pixels = np.array(stego_img)\n",
    "stego_palette = stego_img.getpalette()\n",
    "correct_stego_img = Image.open('correct_baboon_stego.gif')\n",
    "correct_stego_pixels = np.array(correct_stego_img)\n",
    "correct_stego_palette = correct_stego_img.getpalette()\n",
    "assert np.all(stego_pixels == correct_stego_pixels)\n",
    "assert stego_palette == correct_stego_palette"
   ]
  },
  {
   "cell_type": "markdown",
   "metadata": {},
   "source": [
    "Xem các ảnh và so sánh tính vô hình khi nhúng trên ảnh \"lena.gif\" với khi nhúng trên ảnh \"baboon.gif\". Theo bạn, tại sao lại như vậy? (Gợi ý: trong hàm nhúng ở trên, bạn có thể tính và cho in ra giá trị trung bình của khoảng cách từ mỗi màu trong bảng màu tới màu gần nhất mà có (R+G+B)%2 khác với (R+G+B)%2 của mình)"
   ]
  },
  {
   "cell_type": "markdown",
   "metadata": {
    "deletable": false,
    "nbgrader": {
     "cell_type": "markdown",
     "checksum": "f893843878e97b85f68a23ee68ad571c",
     "grade": true,
     "grade_id": "cell-ac94d86414e139cb",
     "locked": false,
     "points": 2,
     "schema_version": 3,
     "solution": true,
     "task": false
    }
   },
   "source": [
    "Lý do: là do bảng màu của ảnh GIF. Khi khoảng cách giữa những ảnh mà chúng ta muốn thay để để chèn các bit (0 hoặc 1), nếu khoảng cách đó càng to thì tính vô hình sẽ càng thấp. "
   ]
  },
  {
   "cell_type": "markdown",
   "metadata": {},
   "source": [
    "---\n",
    "## Hàm rút trích (3đ)"
   ]
  },
  {
   "cell_type": "code",
   "execution_count": 9,
   "metadata": {
    "deletable": false,
    "nbgrader": {
     "cell_type": "code",
     "checksum": "6793cda6ed24899330e912a6fb483510",
     "grade": false,
     "grade_id": "cell-2ce99db3aa221d29",
     "locked": false,
     "schema_version": 3,
     "solution": true,
     "task": false
    }
   },
   "outputs": [],
   "source": [
    "def extract(stego_img_file, extr_msg_file):\n",
    "    '''\n",
    "    Hàm rút trích tin mật đã được nhúng vào ảnh bằng phương pháp của Fridrich.\n",
    "    \n",
    "    Các tham số:\n",
    "        stego_img_file (str): Tên file chứa stego image.\n",
    "        extr_msg_file (str): Tên file chứa secret message được rút trích.\n",
    "    '''\n",
    "    num_lsbs = 1 \n",
    "    # Đọc stego img file\n",
    "    cover_img = Image.open(stego_img_file)\n",
    "    stego_pixels = np.array(Image.open(stego_img_file))\n",
    "    \n",
    "    palette = cover_img.getpalette() # Kết quả là list các giá trị Red, Green, Blue của các màu \n",
    "                                     # trong bảng màu, 3 giá trị liên tiếp ứng với một màu\n",
    "    palette = np.array(palette, dtype=np.uint8).reshape(1, -1, 3) # Reshape lại dưới dạng ảnh RGB\n",
    "    \n",
    "    # Rút trích msg bits\n",
    "    extr_msg_bits = bitarray()\n",
    "    \n",
    "    stego_pixels_array = stego_pixels.reshape(-1); \n",
    "    for i in range(len(stego_pixels_array)):\n",
    "        pixel = getValue(stego_pixels_array[i],palette)\n",
    "        extr_msg_bits.extend((np.binary_repr(pixel & (2**num_lsbs-1), num_lsbs)))\n",
    "\n",
    "    # Cắt đuôi '100...' ra khỏi msg bits\n",
    "    extr_msg_bits = extr_msg_bits[:extr_msg_bits.to01().rfind('1')]\n",
    "    \n",
    "    # Chuyển msg bits thành msg\n",
    "    extr_msg = extr_msg_bits.tostring()\n",
    "    \n",
    "    # Ghi msg xuống file\n",
    "    with open(extr_msg_file, 'w') as f:\n",
    "        f.write(extr_msg)"
   ]
  },
  {
   "cell_type": "code",
   "execution_count": 10,
   "metadata": {
    "deletable": false,
    "editable": false,
    "nbgrader": {
     "cell_type": "code",
     "checksum": "019abd2a511efc687a3dc0083a56b338",
     "grade": true,
     "grade_id": "cell-f901a6c28df966e1",
     "locked": true,
     "points": 3,
     "schema_version": 3,
     "solution": false,
     "task": false
    }
   },
   "outputs": [],
   "source": [
    "# TEST\n",
    "extract('correct_baboon_stego.gif', 'extr_msg.txt')\n",
    "with open('extr_msg.txt', 'r') as f:\n",
    "    extr_msg = f.read()\n",
    "with open('msg.txt', 'r') as f:\n",
    "    correct_extr_msg = f.read()\n",
    "assert extr_msg == correct_extr_msg"
   ]
  }
 ],
 "metadata": {
  "anaconda-cloud": {},
  "kernelspec": {
   "display_name": "Python 3",
   "language": "python",
   "name": "python3"
  },
  "language_info": {
   "codemirror_mode": {
    "name": "ipython",
    "version": 3
   },
   "file_extension": ".py",
   "mimetype": "text/x-python",
   "name": "python",
   "nbconvert_exporter": "python",
   "pygments_lexer": "ipython3",
   "version": "3.7.1"
  },
  "toc": {
   "base_numbering": 1,
   "nav_menu": {},
   "number_sections": false,
   "sideBar": true,
   "skip_h1_title": true,
   "title_cell": "Table of Contents",
   "title_sidebar": "Contents",
   "toc_cell": false,
   "toc_position": {
    "height": "calc(100% - 180px)",
    "left": "10px",
    "top": "150px",
    "width": "165px"
   },
   "toc_section_display": true,
   "toc_window_display": true
  }
 },
 "nbformat": 4,
 "nbformat_minor": 4
}
