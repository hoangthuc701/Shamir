{
 "cells": [
  {
   "cell_type": "markdown",
   "id": "95310cb3",
   "metadata": {},
   "source": [
    "# Bài tập lớn lấy điểm cuối kỳ\n",
    "\n",
    "Họ tên: Nguyễn Hoàng Thức\n",
    "\n",
    "MSSV: 20424077"
   ]
  },
  {
   "cell_type": "markdown",
   "id": "98939afa",
   "metadata": {},
   "source": [
    "## Thuật toán Shamir"
   ]
  },
  {
   "cell_type": "markdown",
   "id": "07c42910",
   "metadata": {},
   "source": [
    "## Thuật toán  Shamir áp dụng trường hữu hạn"
   ]
  },
  {
   "cell_type": "markdown",
   "id": "1a7c547f",
   "metadata": {},
   "source": [
    "## Thuật toán Thiên & Lin "
   ]
  },
  {
   "cell_type": "markdown",
   "id": "c41347d2",
   "metadata": {},
   "source": [
    "### Phiên bản Lossy"
   ]
  },
  {
   "cell_type": "code",
   "execution_count": 2,
   "id": "38967332",
   "metadata": {},
   "outputs": [
    {
     "ename": "ModuleNotFoundError",
     "evalue": "No module named 'bitarray'",
     "output_type": "error",
     "traceback": [
      "\u001b[1;31m---------------------------------------------------------------------------\u001b[0m",
      "\u001b[1;31mModuleNotFoundError\u001b[0m                       Traceback (most recent call last)",
      "\u001b[1;32m<ipython-input-2-b11e894ed308>\u001b[0m in \u001b[0;36m<module>\u001b[1;34m\u001b[0m\n\u001b[1;32m----> 1\u001b[1;33m \u001b[1;32mfrom\u001b[0m \u001b[0mbitarray\u001b[0m \u001b[1;32mimport\u001b[0m \u001b[0mbitarray\u001b[0m\u001b[1;33m\u001b[0m\u001b[1;33m\u001b[0m\u001b[0m\n\u001b[0m\u001b[0;32m      2\u001b[0m \u001b[1;32mimport\u001b[0m \u001b[0mnumpy\u001b[0m \u001b[1;32mas\u001b[0m \u001b[0mnp\u001b[0m\u001b[1;33m\u001b[0m\u001b[1;33m\u001b[0m\u001b[0m\n\u001b[0;32m      3\u001b[0m \u001b[1;32mfrom\u001b[0m \u001b[0mPIL\u001b[0m \u001b[1;32mimport\u001b[0m \u001b[0mImage\u001b[0m\u001b[1;33m\u001b[0m\u001b[1;33m\u001b[0m\u001b[0m\n\u001b[0;32m      4\u001b[0m \u001b[1;32mimport\u001b[0m \u001b[0mmatplotlib\u001b[0m\u001b[1;33m.\u001b[0m\u001b[0mpyplot\u001b[0m \u001b[1;32mas\u001b[0m \u001b[0mplt\u001b[0m\u001b[1;33m\u001b[0m\u001b[1;33m\u001b[0m\u001b[0m\n",
      "\u001b[1;31mModuleNotFoundError\u001b[0m: No module named 'bitarray'"
     ]
    }
   ],
   "source": [
    "from bitarray import bitarray\n",
    "import numpy as np\n",
    "from PIL import Image\n",
    "import matplotlib.pyplot as plt"
   ]
  },
  {
   "cell_type": "code",
   "execution_count": null,
   "id": "5d927804",
   "metadata": {},
   "outputs": [],
   "source": []
  }
 ],
 "metadata": {
  "kernelspec": {
   "display_name": "Python 3",
   "language": "python",
   "name": "python3"
  },
  "language_info": {
   "codemirror_mode": {
    "name": "ipython",
    "version": 3
   },
   "file_extension": ".py",
   "mimetype": "text/x-python",
   "name": "python",
   "nbconvert_exporter": "python",
   "pygments_lexer": "ipython3",
   "version": "3.7.1"
  }
 },
 "nbformat": 4,
 "nbformat_minor": 5
}
